{
  "nbformat": 4,
  "nbformat_minor": 0,
  "metadata": {
    "colab": {
      "provenance": [],
      "authorship_tag": "ABX9TyMSN7gzM/nsqMqIKpAR5nF9",
      "include_colab_link": true
    },
    "kernelspec": {
      "name": "python3",
      "display_name": "Python 3"
    },
    "language_info": {
      "name": "python"
    }
  },
  "cells": [
    {
      "cell_type": "markdown",
      "metadata": {
        "id": "view-in-github",
        "colab_type": "text"
      },
      "source": [
        "<a href=\"https://colab.research.google.com/github/renegibran/Bootstrap/blob/master/final.ipynb\" target=\"_parent\"><img src=\"https://colab.research.google.com/assets/colab-badge.svg\" alt=\"Open In Colab\"/></a>"
      ]
    },
    {
      "cell_type": "code",
      "source": [
        "import pandas \n",
        "import numpy \n",
        "#Erro padrão\n",
        "from scipy.stats import sem\n",
        "#REamostragem com substituição\n",
        "from sklearn.utils import resample \n",
        "from sklearn.metrics import accuracy_score \n",
        "from matplotlib import pyplot as plt "
      ],
      "metadata": {
        "id": "YeliILJrAHj_"
      },
      "execution_count": 38,
      "outputs": []
    },
    {
      "cell_type": "code",
      "execution_count": 39,
      "metadata": {
        "id": "tQ4GHbmi-L3E"
      },
      "outputs": [],
      "source": [
        "#Reamostragens com substituições\n",
        "x = numpy.array([1, 2, 4, 4, 10]) \n",
        "n_iterations = 1000\n",
        "n_size = int(len(x)) \n",
        "medianas = list() \n",
        "medias = list()\n",
        "\n",
        "for i in range(n_iterations): \n",
        "   s = resample(x, n_samples=n_size)\n",
        "   t = numpy.mean(s) \n",
        "   m = numpy.median(s);\n",
        "   medianas.append(m)\n",
        "   medias.append(t)"
      ]
    },
    {
      "cell_type": "code",
      "source": [
        "plt.hist(medias) \n",
        "plt.show() \n",
        "confianca = 0.95\n",
        "p = ((1.0-confianca)/2.0) * 100\n",
        "lower =  numpy.percentile(medias, p) \n",
        "p = (confianca+((1.0-confianca)/2.0)) * 100\n",
        "upper =  numpy.percentile(medias, p) \n",
        "print(f\"\\n{confianca*100} Intervalo de confiânça {lower} e {upper}\")\n",
        "\n",
        "DesvioPadraoMedias = numpy.std(medias)\n",
        "print(\"Desvio Padrao Média\", DesvioPadraoMedias)\n",
        "\n",
        "StandardErrorMean = sem(medias)\n",
        "print(\"Erro padrão média\", StandardErrorMean)"
      ],
      "metadata": {
        "colab": {
          "base_uri": "https://localhost:8080/",
          "height": 338
        },
        "id": "qbJ7-sgcAlDw",
        "outputId": "4f66309c-b471-4c7e-e469-4ab9427914fd"
      },
      "execution_count": 40,
      "outputs": [
        {
          "output_type": "display_data",
          "data": {
            "text/plain": [
              "<Figure size 432x288 with 1 Axes>"
            ],
            "image/png": "[encoded data removed]"
          },
          "metadata": {
            "needs_background": "light"
          }
        },
        {
          "output_type": "stream",
          "name": "stdout",
          "text": [
            "\n",
            "95.0 Intervalo de confiânça 2.4 e 6.040000000000001\n",
            "Desvio Padrao Média 1.0954451150103324\n",
            "Erro padrão média 0.36514837167011077\n"
          ]
        }
      ]
    },
    {
      "cell_type": "code",
      "source": [
        "#Histograma de Medianas com intervalo de confianca de 95%\n",
        "plt.hist(medianas) \n",
        "plt.show() \n",
        "confianca = 0.95\n",
        "p = ((1.0-confianca)/2.0) * 100\n",
        "lower =  numpy.percentile(medianas, p) \n",
        "p = (confianca+((1.0-confianca)/2.0)) * 100\n",
        "upper =  numpy.percentile(medianas, p) \n",
        "print(f\"\\n{confianca*100} Intervalo de confiânça {lower} e {upper}\")\n",
        "\n",
        "DesvioPadraoMedianas = numpy.std(medianas)\n",
        "print(\"Desvio Padrao Medianas\", DesvioPadraoMedianas)\n",
        "\n",
        "StandardErrorMedian = sem(medianas)\n",
        "print(\"Erro Padrão Medianas\", StandardErrorMedian)\n"
      ],
      "metadata": {
        "colab": {
          "base_uri": "https://localhost:8080/",
          "height": 338
        },
        "id": "75ygb86hAYaS",
        "outputId": "9e03c90e-e536-4f28-cf41-bccebd3efae0"
      },
      "execution_count": 41,
      "outputs": [
        {
          "output_type": "display_data",
          "data": {
            "text/plain": [
              "<Figure size 432x288 with 1 Axes>"
            ],
            "image/png": "[encoded data removed]"
          },
          "metadata": {
            "needs_background": "light"
          }
        },
        {
          "output_type": "stream",
          "name": "stdout",
          "text": [
            "\n",
            "95.0 Intervalo de confiânça 2.0 e 8.650000000000002\n",
            "Desvio Padrao Medianas 2.08806130178211\n",
            "Erro Padrão Medianas 0.69602043392737\n"
          ]
        }
      ]
    }
  ]
}