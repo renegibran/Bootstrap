{
  "nbformat": 4,
  "nbformat_minor": 0,
  "metadata": {
    "colab": {
      "provenance": [],
      "include_colab_link": true
    },
    "kernelspec": {
      "name": "python3",
      "display_name": "Python 3"
    },
    "language_info": {
      "name": "python"
    }
  },
  "cells": [
    {
      "cell_type": "markdown",
      "metadata": {
        "id": "view-in-github",
        "colab_type": "text"
      },
      "source": [
        "<a href=\"https://colab.research.google.com/github/renegibran/Bootstrap/blob/master/final.ipynb\" target=\"_parent\"><img src=\"https://colab.research.google.com/assets/colab-badge.svg\" alt=\"Open In Colab\"/></a>"
      ]
    },
    {
      "cell_type": "code",
      "source": [
        "import pandas \n",
        "import numpy \n",
        "#Erro padrão\n",
        "from scipy.stats import sem\n",
        "#REamostragem com substituição\n",
        "from sklearn.utils import resample \n",
        "from sklearn.metrics import accuracy_score \n",
        "from matplotlib import pyplot as plt "
      ],
      "metadata": {
        "id": "YeliILJrAHj_"
      },
      "execution_count": null,
      "outputs": []
    },
    {
      "cell_type": "code",
      "execution_count": null,
      "metadata": {
        "id": "tQ4GHbmi-L3E"
      },
      "outputs": [],
      "source": [
        "#Reamostragens com substituições\n",
        "x = numpy.array([1, 2, 4, 4, 10]) \n",
        "n_iterations = 1000\n",
        "n_size = int(len(x)) \n",
        "medianas = list() \n",
        "medias = list()\n",
        "\n",
        "for i in range(n_iterations): \n",
        "   s = resample(x, n_samples=n_size)\n",
        "   t = numpy.mean(s) \n",
        "   m = numpy.median(s);\n",
        "   medianas.append(m)\n",
        "   medias.append(t)"
      ]
    },
    {
      "cell_type": "code",
      "source": [
        "plt.hist(medias, color = \"brown\")\n",
        "plt.title(\"Distribuição Amostral\")\n",
        "plt.ylabel(\"Quantidades\")\n",
        "plt.xlabel(\"Média\")\n",
        "plt.show() \n",
        "confianca = 0.95\n",
        "p = ((1.0-confianca)/2.0) * 100\n",
        "lower =  numpy.percentile(medias, p) \n",
        "p = (confianca+((1.0-confianca)/2.0)) * 100\n",
        "upper =  numpy.percentile(medias, p) \n",
        "print(f\"\\nIntervalo de confiânça {confianca*100}%:\\t {lower} e {upper}\")\n",
        "\n",
        "DesvioPadraoMedias = numpy.std(medias)\n",
        "print(\"Desvio Padrao Média:\\t\\t\\t\", DesvioPadraoMedias)\n",
        "\n",
        "StandardErrorMean = sem(medias)\n",
        "print(\"Erro padrão média:\\t\\t\\t\\t\", StandardErrorMean)"
      ],
      "metadata": {
        "colab": {
          "base_uri": "https://localhost:8080/",
          "height": 366
        },
        "id": "qbJ7-sgcAlDw",
        "outputId": "13e1e3d9-9cb1-4935-aab5-dca03fc6f2c4"
      },
      "execution_count": null,
      "outputs": [
        {
          "output_type": "display_data",
          "data": {
            "text/plain": [
              "<Figure size 432x288 with 1 Axes>"
            ],
            "image/png": "[encoded data removed]"
          },
          "metadata": {
            "needs_background": "light"
          }
        },
        {
          "output_type": "stream",
          "name": "stdout",
          "text": [
            "\n",
            "Intervalo de confiânça 95.0%:\t 1.8 e 7.2\n",
            "Desvio Padrao Média:\t\t\t 1.4004409448455868\n",
            "Erro padrão média:\t\t\t\t 0.04430799067931244\n"
          ]
        }
      ]
    },
    {
      "cell_type": "code",
      "source": [
        "#Histograma de Medianas com intervalo de confianca de 95%\n",
        "plt.hist(medianas, color = \"green\") \n",
        "plt.title(\"Distribuição Amostral\")\n",
        "plt.ylabel(\"Quantidades\")\n",
        "plt.xlabel(\"Medianas\")\n",
        "plt.show() \n",
        "confianca = 0.95\n",
        "p = ((1.0-confianca)/2.0) * 100\n",
        "lower =  numpy.percentile(medianas, p) \n",
        "p = (confianca+((1.0-confianca)/2.0)) * 100\n",
        "upper =  numpy.percentile(medianas, p) \n",
        "print(f\"\\nIntervalo de confiânça {confianca*100}%:\\t {lower} e {upper}\")\n",
        "\n",
        "DesvioPadraoMedianas = numpy.std(medianas)\n",
        "print(\"Desvio Padrao Medianas:\\t\\t\\t\", DesvioPadraoMedianas)\n",
        "\n",
        "StandardErrorMedian = sem(medianas)\n",
        "print(\"Erro Padrão Medianas:\\t\\t\\t\", StandardErrorMedian)\n"
      ],
      "metadata": {
        "colab": {
          "base_uri": "https://localhost:8080/",
          "height": 366
        },
        "id": "75ygb86hAYaS",
        "outputId": "6d8bc3fa-4977-43e1-e3c6-629366c690fb"
      },
      "execution_count": null,
      "outputs": [
        {
          "output_type": "display_data",
          "data": {
            "text/plain": [
              "<Figure size 432x288 with 1 Axes>"
            ],
            "image/png": "[encoded data removed]"
          },
          "metadata": {
            "needs_background": "light"
          }
        },
        {
          "output_type": "stream",
          "name": "stdout",
          "text": [
            "\n",
            "Intervalo de confiânça 95.0%:\t 1.0 e 10.0\n",
            "Desvio Padrao Medianas:\t\t\t 1.9000115789120864\n",
            "Erro Padrão Medianas:\t\t\t 0.0601137060715579\n"
          ]
        }
      ]
    }
  ]
}